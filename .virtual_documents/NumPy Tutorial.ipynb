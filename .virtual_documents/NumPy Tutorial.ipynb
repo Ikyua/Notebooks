import numpy as np


 a = np.array([1,2,3])
a
print(a)


b = np.array([[9.0,8.0,7.0],[6.0,5.0,4.0]])
b
print(b)





# Get dimension of numpy array
a.ndim


b.ndim


#Get the shape of a numpy array (rows, cols)
a.shape


b.shape


# Get type
a.dtype


b.dtype


# Get size (bytes)
a.itemsize


# Get total size (elements
a.size * a.itemsize


a.nbytes






